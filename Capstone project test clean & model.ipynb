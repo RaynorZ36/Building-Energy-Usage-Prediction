{
 "cells": [
  {
   "cell_type": "code",
   "execution_count": 1,
   "id": "18753d6a",
   "metadata": {},
   "outputs": [],
   "source": [
    "from collections import defaultdict\n",
    "import json as json\n",
    "from sklearn.preprocessing import StandardScaler\n",
    "from sklearn.model_selection import GridSearchCV\n",
    "import pandas as pd\n",
    "from sklearn.compose import ColumnTransformer\n",
    "from sklearn.base import TransformerMixin\n",
    "from sklearn.base import BaseEstimator, RegressorMixin\n",
    "from sklearn.feature_extraction import DictVectorizer\n",
    "from sklearn.linear_model import Ridge\n",
    "from sklearn.model_selection import train_test_split\n",
    "from sklearn.preprocessing import OrdinalEncoder\n",
    "from sklearn.preprocessing import OneHotEncoder\n",
    "from sklearn.tree import DecisionTreeRegressor\n",
    "from sklearn.ensemble import RandomForestRegressor\n",
    "from sklearn.pipeline import Pipeline\n",
    "from sklearn.metrics import r2_score\n",
    "import numpy as np\n",
    "import dill"
   ]
  },
  {
   "cell_type": "code",
   "execution_count": null,
   "id": "67ac1e3a",
   "metadata": {},
   "outputs": [],
   "source": [
    "# This is to save progress file to pkd\n",
    "#dill.dump(df_2013, open('df_2013.pkd', 'wb'))"
   ]
  },
  {
   "cell_type": "code",
   "execution_count": 168,
   "id": "00e8d295",
   "metadata": {},
   "outputs": [],
   "source": [
    "dill.dump(df_process, open('df_process.pkd', 'wb'))"
   ]
  },
  {
   "cell_type": "code",
   "execution_count": null,
   "id": "6fc174c8",
   "metadata": {},
   "outputs": [],
   "source": [
    "# This is to load pkd file into data frame again\n",
    "#with open('df_2013_w.pkd', 'rb') as f:\n",
    "#    df_2013_work = dill.load(f)"
   ]
  },
  {
   "cell_type": "code",
   "execution_count": null,
   "id": "3bd5e3b0",
   "metadata": {},
   "outputs": [],
   "source": [
    "#Test code\n",
    "#Update \"Not Available\" string in the data frame into \"NaN\".\n",
    "#With \"NaN\", I can then use scikit learn fill model or \n",
    "df['a']=df['a'].apply(lambda x: np.nan if x == 'Not Available' else x)\n",
    "# to check if there any row is null\n",
    "df_col.loc[df_col['Electricity Use - Grid Purchase (kBtu)'].isnull()]\n",
    "\n",
    "#test if still \"not available\" exists\n",
    "df_work.loc[df_work['Longitude']=='Not Available']"
   ]
  },
  {
   "cell_type": "code",
   "execution_count": 61,
   "id": "fed09f9d",
   "metadata": {},
   "outputs": [],
   "source": [
    "dill.dump(df_2013_work, open('df_2013_w.pkd', 'wb'))"
   ]
  },
  {
   "cell_type": "code",
   "execution_count": 2,
   "id": "6883c511",
   "metadata": {},
   "outputs": [],
   "source": [
    "# This is to load pkd file into data frame again\n",
    "with open('df_2013_w.pkd', 'rb') as f:\n",
    "       df_2013_work = dill.load(f)"
   ]
  },
  {
   "cell_type": "code",
   "execution_count": 67,
   "id": "9c4c3278",
   "metadata": {
    "scrolled": true
   },
   "outputs": [
    {
     "name": "stderr",
     "output_type": "stream",
     "text": [
      "C:\\Users\\rayno\\AppData\\Local\\Temp\\ipykernel_6708\\410055799.py:1: DtypeWarning: Columns (13,19) have mixed types. Specify dtype option on import or set low_memory=False.\n",
      "  df_2013 = pd.read_csv(\"raw data/Energy_and_Water_Data_Disclosure_for_Local_Law_84__Data_for_Calendar_Year_2013_.csv\")\n"
     ]
    }
   ],
   "source": [
    "df_2013 = pd.read_csv(\"raw data/Energy_and_Water_Data_Disclosure_for_Local_Law_84__Data_for_Calendar_Year_2013_.csv\")"
   ]
  },
  {
   "cell_type": "code",
   "execution_count": 69,
   "id": "1354e1df",
   "metadata": {
    "scrolled": true
   },
   "outputs": [
    {
     "data": {
      "text/plain": [
       "Index(['Property Id', 'Property Name', 'Parent Property Id',\n",
       "       'Parent Property Name', 'Year Ending',\n",
       "       'NYC Building Identification Number (BIN)',\n",
       "       'NYC Borough, Block and Lot (BBL)', 'Custom Property ID 1 - Name',\n",
       "       'Custom Property ID 1 - ID', 'Address 1',\n",
       "       ...\n",
       "       'Hotel - Percent That Can Be Cooled', 'Generation Date', 'Release Date',\n",
       "       'Borough', 'Latitude', 'Longitude', 'Community Board',\n",
       "       'Council District', 'Census Tract', 'NTA'],\n",
       "      dtype='object', length=255)"
      ]
     },
     "execution_count": 69,
     "metadata": {},
     "output_type": "execute_result"
    }
   ],
   "source": [
    "# get a list of column names:\n",
    "cl_name_list = df_2013.columns"
   ]
  },
  {
   "cell_type": "code",
   "execution_count": 73,
   "id": "d399dae7",
   "metadata": {},
   "outputs": [],
   "source": [
    "#hand input to pick useful columns\n",
    "\n",
    "#columns to be used for this capstone project\n",
    "cl_to_use_list = ['Property Id','City','Primary Property Type - Self Selected','Property Floor Area (Building(s)) (ft²)',\n",
    "                 'Year Built','ENERGY STAR Score','ENERGY STAR Certification - Eligibility','Latitude','Longitude',\n",
    "                  'Electricity Use - Grid Purchase (kBtu)',\n",
    "                  'Office - Computer Density (Number per 1,000 ft²)','Office - Weekly Operating Hours','Office - Worker Density (Number per 1,000 ft²)',\n",
    "                  'Multifamily Housing - Maximum Number of Floors','Multifamily Housing - Total Number of Residential Living Units','Multifamily Housing - Percent That Can Be Cooled',\n",
    "                  'Hotel - Room Density (Number per 1,000 ft²)','Hotel - Worker Density (Number per 1,000 ft²)','Hotel - Percent That Can Be Cooled'\n",
    "                 ]"
   ]
  },
  {
   "cell_type": "code",
   "execution_count": 74,
   "id": "3f8c7bcc",
   "metadata": {},
   "outputs": [],
   "source": [
    "df_2013_work = df_2013[cl_to_use_list]"
   ]
  },
  {
   "cell_type": "code",
   "execution_count": 70,
   "id": "2fbcb7f4",
   "metadata": {},
   "outputs": [],
   "source": [
    "df_col = df_2013[cl_to_use_list]"
   ]
  },
  {
   "cell_type": "code",
   "execution_count": 82,
   "id": "24f294f3",
   "metadata": {},
   "outputs": [],
   "source": [
    "df_2013_work = df_2013_work.rename(columns = {'Property Floor Area (Building(s)) (ft²)':'Total Floor Area -SF',\n",
    "                                              'Office - Computer Density (Number per 1,000 ft²)':'Office - Computer Density',\n",
    "                                             'Primary Property Type - Self Selected':'Primary Property Type',\n",
    "                                             'Hotel - Room Density (Number per 1,000 ft²)':'Hotel Room Density',\n",
    "                                             'Hotel - Worker Density (Number per 1,000 ft²)':'Hotel Worker Density',\n",
    "                                             'Hotel - Percent That Can Be Cooled':'Hotel Perecent Area Cooled',\n",
    "                                             'Office - Worker Density (Number per 1,000 ft²)':'Office - Worker Density',\n",
    "                                              'Multifamily Housing - Maximum Number of Floors':'Multi Fami Max Floors',\n",
    "                                              'Multifamily Housing - Total Number of Residential Living Units':'Multi Fami Resid Units',\n",
    "                                              'Multifamily Housing - Percent That Can Be Cooled':'Multi Fami Area Cooled'\n",
    "                                             })"
   ]
  },
  {
   "cell_type": "code",
   "execution_count": 76,
   "id": "2cdfbda7",
   "metadata": {},
   "outputs": [],
   "source": [
    "# Drop row that doesn't have electricity use (can't be use as Y)\n",
    "# convert KBTU to KWH\n",
    "df_2013_work = df_2013_work[df_2013_work['Electricity Use - Grid Purchase (kBtu)'] != 'Not Available']\n"
   ]
  },
  {
   "cell_type": "code",
   "execution_count": 77,
   "id": "89ff29ca",
   "metadata": {},
   "outputs": [],
   "source": [
    "df_2013_work['Electricity Use - Grid Purchase (kBtu)'] = pd.to_numeric(df_2013_work['Electricity Use - Grid Purchase (kBtu)'], errors='coerce')"
   ]
  },
  {
   "cell_type": "code",
   "execution_count": 78,
   "id": "25462807",
   "metadata": {},
   "outputs": [],
   "source": [
    "df_2013_work['Electricity Use - Grid Purchase (kwh)'] = df_2013_work['Electricity Use - Grid Purchase (kBtu)']*0.000293"
   ]
  },
  {
   "cell_type": "code",
   "execution_count": 79,
   "id": "dabf45d9",
   "metadata": {
    "scrolled": false
   },
   "outputs": [
    {
     "data": {
      "text/plain": [
       "0        12752.849348\n",
       "1         4835.318378\n",
       "2         7196.573764\n",
       "3         5532.209004\n",
       "4        30763.814288\n",
       "             ...     \n",
       "13127      180.366434\n",
       "13128      326.263499\n",
       "13130     1895.687996\n",
       "13131      675.632070\n",
       "13132     1027.508076\n",
       "Name: Electricity Use - Grid Purchase (kwh), Length: 12014, dtype: float64"
      ]
     },
     "execution_count": 79,
     "metadata": {},
     "output_type": "execute_result"
    }
   ],
   "source": [
    "df_2013_work['Electricity Use - Grid Purchase (kwh)']"
   ]
  },
  {
   "cell_type": "code",
   "execution_count": 84,
   "id": "f66f8066",
   "metadata": {},
   "outputs": [],
   "source": [
    "df_work = df_2013_work"
   ]
  },
  {
   "cell_type": "code",
   "execution_count": 87,
   "id": "5a612e30",
   "metadata": {},
   "outputs": [],
   "source": [
    "# to change all columns with \"not available\" into 'nan'\n",
    "cl_not_available = ['ENERGY STAR Score', 'Electricity Use - Grid Purchase (kwh)',\n",
    "                    'Total Floor Area -SF','Office - Computer Density','Office - Weekly Operating Hours','Office - Worker Density',\n",
    "                   'Multi Fami Max Floors','Multi Fami Resid Units','Multi Fami Area Cooled',\n",
    "                   'Hotel Room Density','Hotel Worker Density','Hotel Perecent Area Cooled']\n",
    "\n",
    "\n",
    "def turn_notavailable(x):\n",
    "\n",
    "    if x == 'Not Available':\n",
    "        x=np.nan\n",
    "    return x\n",
    "\n",
    "for col in cl_not_available:\n",
    "    df_work[col] = df_work[col].apply(turn_notavailable)"
   ]
  },
  {
   "cell_type": "code",
   "execution_count": 88,
   "id": "2a180692",
   "metadata": {},
   "outputs": [],
   "source": [
    "# to change all columns with dtype 'object' into 'int' or 'float'\n",
    "cl_to_numeric = ['Total Floor Area -SF','ENERGY STAR Score',\n",
    "                    'Office - Computer Density','Office - Weekly Operating Hours','Office - Worker Density',\n",
    "                   'Multi Fami Max Floors','Multi Fami Resid Units','Multi Fami Area Cooled',\n",
    "                   'Hotel Room Density','Hotel Worker Density','Hotel Perecent Area Cooled']\n",
    "\n",
    "for col in cl_to_numeric:\n",
    "    df_work[col] = pd.to_numeric(df_work[col], errors='coerce')"
   ]
  },
  {
   "cell_type": "code",
   "execution_count": 94,
   "id": "fd6b6eba",
   "metadata": {
    "scrolled": true
   },
   "outputs": [
    {
     "data": {
      "text/html": [
       "<div>\n",
       "<style scoped>\n",
       "    .dataframe tbody tr th:only-of-type {\n",
       "        vertical-align: middle;\n",
       "    }\n",
       "\n",
       "    .dataframe tbody tr th {\n",
       "        vertical-align: top;\n",
       "    }\n",
       "\n",
       "    .dataframe thead th {\n",
       "        text-align: right;\n",
       "    }\n",
       "</style>\n",
       "<table border=\"1\" class=\"dataframe\">\n",
       "  <thead>\n",
       "    <tr style=\"text-align: right;\">\n",
       "      <th></th>\n",
       "      <th>Property Id</th>\n",
       "      <th>City</th>\n",
       "      <th>Primary Property Type</th>\n",
       "      <th>Total Floor Area -SF</th>\n",
       "      <th>Year Built</th>\n",
       "      <th>ENERGY STAR Score</th>\n",
       "      <th>ENERGY STAR Certification - Eligibility</th>\n",
       "      <th>Latitude</th>\n",
       "      <th>Longitude</th>\n",
       "      <th>Electricity Use - Grid Purchase (kBtu)</th>\n",
       "      <th>Office - Computer Density</th>\n",
       "      <th>Office - Weekly Operating Hours</th>\n",
       "      <th>Office - Worker Density</th>\n",
       "      <th>Multi Fami Max Floors</th>\n",
       "      <th>Multi Fami Resid Units</th>\n",
       "      <th>Multi Fami Area Cooled</th>\n",
       "      <th>Hotel Room Density</th>\n",
       "      <th>Hotel Worker Density</th>\n",
       "      <th>Hotel Perecent Area Cooled</th>\n",
       "      <th>Electricity Use - Grid Purchase (kwh)</th>\n",
       "    </tr>\n",
       "  </thead>\n",
       "  <tbody>\n",
       "    <tr>\n",
       "      <th>0</th>\n",
       "      <td>7365</td>\n",
       "      <td>Manhattan</td>\n",
       "      <td>Office</td>\n",
       "      <td>686902.0</td>\n",
       "      <td>1982</td>\n",
       "      <td>NaN</td>\n",
       "      <td>No</td>\n",
       "      <td>40.756631</td>\n",
       "      <td>-73.982826</td>\n",
       "      <td>43525083.1</td>\n",
       "      <td>2.60711</td>\n",
       "      <td>90.00</td>\n",
       "      <td>2.45375</td>\n",
       "      <td>NaN</td>\n",
       "      <td>NaN</td>\n",
       "      <td>NaN</td>\n",
       "      <td>NaN</td>\n",
       "      <td>NaN</td>\n",
       "      <td>NaN</td>\n",
       "      <td>12752.849348</td>\n",
       "    </tr>\n",
       "    <tr>\n",
       "      <th>1</th>\n",
       "      <td>8139</td>\n",
       "      <td>Manhattan</td>\n",
       "      <td>Office</td>\n",
       "      <td>384432.0</td>\n",
       "      <td>1956</td>\n",
       "      <td>NaN</td>\n",
       "      <td>No</td>\n",
       "      <td>40.750698</td>\n",
       "      <td>-73.974306</td>\n",
       "      <td>16502793.1</td>\n",
       "      <td>4.29072</td>\n",
       "      <td>65.00</td>\n",
       "      <td>3.87549</td>\n",
       "      <td>NaN</td>\n",
       "      <td>NaN</td>\n",
       "      <td>NaN</td>\n",
       "      <td>NaN</td>\n",
       "      <td>NaN</td>\n",
       "      <td>NaN</td>\n",
       "      <td>4835.318378</td>\n",
       "    </tr>\n",
       "    <tr>\n",
       "      <th>2</th>\n",
       "      <td>8604</td>\n",
       "      <td>Manhattan</td>\n",
       "      <td>Financial Office</td>\n",
       "      <td>572369.0</td>\n",
       "      <td>1989</td>\n",
       "      <td>NaN</td>\n",
       "      <td>No</td>\n",
       "      <td>40.758310</td>\n",
       "      <td>-73.982504</td>\n",
       "      <td>24561685.2</td>\n",
       "      <td>1.35702</td>\n",
       "      <td>65.42</td>\n",
       "      <td>1.35702</td>\n",
       "      <td>NaN</td>\n",
       "      <td>NaN</td>\n",
       "      <td>NaN</td>\n",
       "      <td>NaN</td>\n",
       "      <td>NaN</td>\n",
       "      <td>NaN</td>\n",
       "      <td>7196.573764</td>\n",
       "    </tr>\n",
       "    <tr>\n",
       "      <th>3</th>\n",
       "      <td>8841</td>\n",
       "      <td>Manhattan</td>\n",
       "      <td>Office</td>\n",
       "      <td>362578.0</td>\n",
       "      <td>1961</td>\n",
       "      <td>NaN</td>\n",
       "      <td>No</td>\n",
       "      <td>40.753074</td>\n",
       "      <td>-73.972753</td>\n",
       "      <td>18881259.4</td>\n",
       "      <td>3.05200</td>\n",
       "      <td>70.00</td>\n",
       "      <td>2.77454</td>\n",
       "      <td>NaN</td>\n",
       "      <td>NaN</td>\n",
       "      <td>NaN</td>\n",
       "      <td>NaN</td>\n",
       "      <td>NaN</td>\n",
       "      <td>NaN</td>\n",
       "      <td>5532.209004</td>\n",
       "    </tr>\n",
       "    <tr>\n",
       "      <th>4</th>\n",
       "      <td>11809</td>\n",
       "      <td>Manhattan</td>\n",
       "      <td>Office</td>\n",
       "      <td>1601977.0</td>\n",
       "      <td>1999</td>\n",
       "      <td>NaN</td>\n",
       "      <td>No</td>\n",
       "      <td>40.756181</td>\n",
       "      <td>-73.986244</td>\n",
       "      <td>104995953.2</td>\n",
       "      <td>4.23490</td>\n",
       "      <td>98.00</td>\n",
       "      <td>4.30107</td>\n",
       "      <td>NaN</td>\n",
       "      <td>NaN</td>\n",
       "      <td>NaN</td>\n",
       "      <td>NaN</td>\n",
       "      <td>NaN</td>\n",
       "      <td>NaN</td>\n",
       "      <td>30763.814288</td>\n",
       "    </tr>\n",
       "  </tbody>\n",
       "</table>\n",
       "</div>"
      ],
      "text/plain": [
       "   Property Id       City Primary Property Type  Total Floor Area -SF  \\\n",
       "0         7365  Manhattan                Office              686902.0   \n",
       "1         8139  Manhattan                Office              384432.0   \n",
       "2         8604  Manhattan      Financial Office              572369.0   \n",
       "3         8841  Manhattan                Office              362578.0   \n",
       "4        11809  Manhattan                Office             1601977.0   \n",
       "\n",
       "   Year Built  ENERGY STAR Score ENERGY STAR Certification - Eligibility  \\\n",
       "0        1982                NaN                                      No   \n",
       "1        1956                NaN                                      No   \n",
       "2        1989                NaN                                      No   \n",
       "3        1961                NaN                                      No   \n",
       "4        1999                NaN                                      No   \n",
       "\n",
       "    Latitude  Longitude  Electricity Use - Grid Purchase (kBtu)  \\\n",
       "0  40.756631 -73.982826                              43525083.1   \n",
       "1  40.750698 -73.974306                              16502793.1   \n",
       "2  40.758310 -73.982504                              24561685.2   \n",
       "3  40.753074 -73.972753                              18881259.4   \n",
       "4  40.756181 -73.986244                             104995953.2   \n",
       "\n",
       "   Office - Computer Density  Office - Weekly Operating Hours  \\\n",
       "0                    2.60711                            90.00   \n",
       "1                    4.29072                            65.00   \n",
       "2                    1.35702                            65.42   \n",
       "3                    3.05200                            70.00   \n",
       "4                    4.23490                            98.00   \n",
       "\n",
       "   Office - Worker Density  Multi Fami Max Floors  Multi Fami Resid Units  \\\n",
       "0                  2.45375                    NaN                     NaN   \n",
       "1                  3.87549                    NaN                     NaN   \n",
       "2                  1.35702                    NaN                     NaN   \n",
       "3                  2.77454                    NaN                     NaN   \n",
       "4                  4.30107                    NaN                     NaN   \n",
       "\n",
       "   Multi Fami Area Cooled  Hotel Room Density  Hotel Worker Density  \\\n",
       "0                     NaN                 NaN                   NaN   \n",
       "1                     NaN                 NaN                   NaN   \n",
       "2                     NaN                 NaN                   NaN   \n",
       "3                     NaN                 NaN                   NaN   \n",
       "4                     NaN                 NaN                   NaN   \n",
       "\n",
       "   Hotel Perecent Area Cooled  Electricity Use - Grid Purchase (kwh)  \n",
       "0                         NaN                           12752.849348  \n",
       "1                         NaN                            4835.318378  \n",
       "2                         NaN                            7196.573764  \n",
       "3                         NaN                            5532.209004  \n",
       "4                         NaN                           30763.814288  "
      ]
     },
     "execution_count": 94,
     "metadata": {},
     "output_type": "execute_result"
    }
   ],
   "source": [
    "df_work.head(5)"
   ]
  },
  {
   "cell_type": "code",
   "execution_count": 91,
   "id": "9ffd5d08",
   "metadata": {},
   "outputs": [
    {
     "name": "stdout",
     "output_type": "stream",
     "text": [
      "<class 'pandas.core.frame.DataFrame'>\n",
      "Int64Index: 12014 entries, 0 to 13132\n",
      "Data columns (total 20 columns):\n",
      " #   Column                                   Non-Null Count  Dtype  \n",
      "---  ------                                   --------------  -----  \n",
      " 0   Property Id                              12014 non-null  int64  \n",
      " 1   City                                     12014 non-null  object \n",
      " 2   Primary Property Type                    12014 non-null  object \n",
      " 3   Total Floor Area -SF                     11970 non-null  float64\n",
      " 4   Year Built                               12014 non-null  int64  \n",
      " 5   ENERGY STAR Score                        2017 non-null   float64\n",
      " 6   ENERGY STAR Certification - Eligibility  12014 non-null  object \n",
      " 7   Latitude                                 11332 non-null  float64\n",
      " 8   Longitude                                11332 non-null  float64\n",
      " 9   Electricity Use - Grid Purchase (kBtu)   12014 non-null  float64\n",
      " 10  Office - Computer Density                2173 non-null   float64\n",
      " 11  Office - Weekly Operating Hours          2178 non-null   float64\n",
      " 12  Office - Worker Density                  2173 non-null   float64\n",
      " 13  Multi Fami Max Floors                    7614 non-null   float64\n",
      " 14  Multi Fami Resid Units                   8052 non-null   float64\n",
      " 15  Multi Fami Area Cooled                   8561 non-null   float64\n",
      " 16  Hotel Room Density                       195 non-null    float64\n",
      " 17  Hotel Worker Density                     195 non-null    float64\n",
      " 18  Hotel Perecent Area Cooled               195 non-null    float64\n",
      " 19  Electricity Use - Grid Purchase (kwh)    12014 non-null  float64\n",
      "dtypes: float64(15), int64(2), object(3)\n",
      "memory usage: 1.9+ MB\n"
     ]
    }
   ],
   "source": [
    "df_work.info()"
   ]
  },
  {
   "cell_type": "code",
   "execution_count": null,
   "id": "5439d830",
   "metadata": {},
   "outputs": [],
   "source": [
    "#Not available in \"total floor area-sf\"\n",
    "#CHANGE TOTAL FLOOR AREA INTO INT\n",
    "#CHANGE ENERGY SCORE INTO INT\n",
    "#3 CHARA FOR OFFICE INTO FLOAT 64\n",
    "#3 CHARA FOR MULTI FAMY BLDG INTO FLOAT 64\n",
    "#3 CHARA FOR HOSPITAL INTO FLOAT 64\n",
    "#CHANGE ALL \"NOT AVAILABLE\" INTO 'NAN'\n"
   ]
  },
  {
   "cell_type": "code",
   "execution_count": 96,
   "id": "a85a124d",
   "metadata": {
    "scrolled": true
   },
   "outputs": [
    {
     "data": {
      "text/plain": [
       "ENERGY STAR Certification - Eligibility\n",
       "No     11738\n",
       "Yes      276\n",
       "dtype: int64"
      ]
     },
     "execution_count": 96,
     "metadata": {},
     "output_type": "execute_result"
    }
   ],
   "source": [
    "df_work.value_counts(df_work['ENERGY STAR Certification - Eligibility'])"
   ]
  },
  {
   "cell_type": "code",
   "execution_count": 97,
   "id": "9b88d2cc",
   "metadata": {},
   "outputs": [],
   "source": [
    "#df_process is the df that data inside are processed, IE NaN value will be filled or replaced\n",
    "df_process = df_work"
   ]
  },
  {
   "cell_type": "code",
   "execution_count": 118,
   "id": "100cc630",
   "metadata": {},
   "outputs": [],
   "source": [
    "#Change to be made including following:\n",
    "#1, Energy Star Score: NaN change into 50, which is national median\n",
    "#2, Make a new col = 'Distance to Central Park' using \"Latitude\" & 'Longitude'\n",
    "#3, Fill NaN value in Distance to Central Pak with average \n",
    "df_process['ENERGY STAR Score']=df_process['ENERGY STAR Score'].fillna(50)\n",
    "df_process['Distance to Central Park'] = (abs(df_process['Latitude'])- 40.4712) + (abs(df_process['Longitude'])- 73.9665)**2\n",
    "distance_avg = df_process['Distance to Central Park'].mean()\n"
   ]
  },
  {
   "cell_type": "code",
   "execution_count": 119,
   "id": "70d167e1",
   "metadata": {},
   "outputs": [],
   "source": [
    "df_process['Distance to Central Park'] = df_process['Distance to Central Park'].fillna(distance_avg)"
   ]
  },
  {
   "cell_type": "code",
   "execution_count": 137,
   "id": "c9999840",
   "metadata": {},
   "outputs": [],
   "source": [
    "df_process['Year to now'] = abs(df_process['Year Built'])- 2020"
   ]
  },
  {
   "cell_type": "code",
   "execution_count": 147,
   "id": "0a7eb3d4",
   "metadata": {},
   "outputs": [],
   "source": [
    "#fill floor area NaN value as average\n",
    "floorarea_avg = df_process['Total Floor Area -SF'].mean()\n",
    "df_process['Total Floor Area -SF'] = df_process['Total Floor Area -SF'].fillna(distance_avg)"
   ]
  },
  {
   "cell_type": "code",
   "execution_count": 148,
   "id": "003bef12",
   "metadata": {},
   "outputs": [
    {
     "name": "stdout",
     "output_type": "stream",
     "text": [
      "<class 'pandas.core.frame.DataFrame'>\n",
      "Int64Index: 12014 entries, 0 to 13132\n",
      "Data columns (total 23 columns):\n",
      " #   Column                                   Non-Null Count  Dtype  \n",
      "---  ------                                   --------------  -----  \n",
      " 0   Property Id                              12014 non-null  int64  \n",
      " 1   City                                     12014 non-null  object \n",
      " 2   Primary Property Type                    12014 non-null  object \n",
      " 3   Total Floor Area -SF                     12014 non-null  float64\n",
      " 4   Year Built                               12014 non-null  int64  \n",
      " 5   ENERGY STAR Score                        12014 non-null  float64\n",
      " 6   ENERGY STAR Certification - Eligibility  12014 non-null  object \n",
      " 7   Latitude                                 11332 non-null  float64\n",
      " 8   Longitude                                11332 non-null  float64\n",
      " 9   Electricity Use - Grid Purchase (kBtu)   12014 non-null  float64\n",
      " 10  Office - Computer Density                2173 non-null   float64\n",
      " 11  Office - Weekly Operating Hours          2178 non-null   float64\n",
      " 12  Office - Worker Density                  2173 non-null   float64\n",
      " 13  Multi Fami Max Floors                    7614 non-null   float64\n",
      " 14  Multi Fami Resid Units                   8052 non-null   float64\n",
      " 15  Multi Fami Area Cooled                   8561 non-null   float64\n",
      " 16  Hotel Room Density                       195 non-null    float64\n",
      " 17  Hotel Worker Density                     195 non-null    float64\n",
      " 18  Hotel Perecent Area Cooled               195 non-null    float64\n",
      " 19  Electricity Use - Grid Purchase (kwh)    12014 non-null  float64\n",
      " 20  Distance to CP                           11332 non-null  float64\n",
      " 21  Distance to Central Park                 12014 non-null  float64\n",
      " 22  Year to now                              12014 non-null  int64  \n",
      "dtypes: float64(17), int64(3), object(3)\n",
      "memory usage: 2.2+ MB\n"
     ]
    }
   ],
   "source": [
    "df_process.info()"
   ]
  },
  {
   "cell_type": "code",
   "execution_count": 149,
   "id": "28ca9768",
   "metadata": {},
   "outputs": [
    {
     "name": "stdout",
     "output_type": "stream",
     "text": [
      "Shape of the complete data set: (12014, 18)\n",
      "Shape of the train data set: (9611, 18)\n",
      "Shape of the test data set: (2403, 18)\n"
     ]
    }
   ],
   "source": [
    "#make test pipeline to make model for multi family bldg\n",
    "#evaluating the final model\n",
    "\n",
    "cols = [x for x in df_process.columns]\n",
    "drop_list = ['Electricity Use - Grid Purchase (kwh)',\n",
    "            'Electricity Use - Grid Purchase (kBtu)','Latitude','Longitude','Year Built']\n",
    "\n",
    "for elem in drop_list:\n",
    "    cols.remove(elem)\n",
    "\n",
    "cols_x = cols\n",
    "    \n",
    "X= df_process[cols]\n",
    "y= df_process['Electricity Use - Grid Purchase (kwh)']\n",
    "\n",
    "\n",
    "X_train, X_test, y_train, y_test = train_test_split(X, y, test_size=0.2, random_state=42)\n",
    "\n",
    "print(\"Shape of the complete data set:\", X.shape)\n",
    "print(\"Shape of the train data set:\", X_train.shape)\n",
    "print(\"Shape of the test data set:\", X_test.shape)"
   ]
  },
  {
   "cell_type": "code",
   "execution_count": null,
   "id": "e0a7fcd2",
   "metadata": {},
   "outputs": [],
   "source": [
    "#process of data within dataline in the following:\n",
    "#OneHotEncoder includes:('City','Primary Property Type')\n",
    "#Scaler:('Total Floor Area -SF')\n",
    "#linear Regression:('Year Built','ENERGY STAR Score')\n",
    "#OrdinalEncoder include('ENERGY STAR Certification - Eligibility')"
   ]
  },
  {
   "cell_type": "code",
   "execution_count": 150,
   "id": "c5b3b0da",
   "metadata": {},
   "outputs": [],
   "source": [
    "linear_col = ['Year to now','ENERGY STAR Score','Total Floor Area -SF']\n",
    "Onehotencoder_col =['City','Primary Property Type']\n",
    "Ordinalencoder_col = ['ENERGY STAR Certification - Eligibility']\n",
    "Standscaler_col = ['Total Floor Area -SF']\n",
    "\n",
    "transformer_common_cl = ColumnTransformer([\n",
    "            ('Standscaler',StandardScaler(),Standscaler_col),\n",
    "            ('Onehotencoder',OneHotEncoder(),Onehotencoder_col),\n",
    "            ('Ordinalencoder',OrdinalEncoder(),Ordinalencoder_col)\n",
    "])"
   ]
  },
  {
   "cell_type": "code",
   "execution_count": 151,
   "id": "9194de4f",
   "metadata": {},
   "outputs": [],
   "source": [
    "class Ensemble_predictor(BaseEstimator, RegressorMixin):\n",
    "    def __init__(self, raw_pred, residue_pred):\n",
    "        self.raw_pred = raw_pred\n",
    "        self.residue_pred = residue_pred\n",
    "        \n",
    "    def fit(self, X, y):\n",
    "        self.raw_pred.fit(X, y)\n",
    "        \"\"\"\n",
    "        Build a custom predictor that takes as an argument two other predictors. \n",
    "        It should use the first to fit the raw data and the second to fit the residuals of the first.\n",
    "        \"\"\"\n",
    "        self.residue_pred.fit(X, y - self.raw_pred.predict(X))  #self.raw_pred.predict(X) is what's predicted by first predictor\n",
    "        \n",
    "        return self\n",
    "    \n",
    "    def predict(self, X):\n",
    "        \n",
    "        return self.raw_pred.predict(X) + self.residue_pred.predict(X)"
   ]
  },
  {
   "cell_type": "code",
   "execution_count": 152,
   "id": "9bbeea05",
   "metadata": {},
   "outputs": [],
   "source": [
    "Pipe_common_cl = Pipeline([('Transform', transformer_common_cl),\n",
    "                            ('Predictor', Ensemble_predictor(Ridge(alpha = 10), \n",
    "                                  RandomForestRegressor(n_estimators = 100, max_depth=10, min_samples_leaf = 5)))\n",
    "                   ])"
   ]
  },
  {
   "cell_type": "code",
   "execution_count": 164,
   "id": "a980f1d9",
   "metadata": {
    "scrolled": true
   },
   "outputs": [
    {
     "data": {
      "text/html": [
       "<style>#sk-container-id-3 {color: black;background-color: white;}#sk-container-id-3 pre{padding: 0;}#sk-container-id-3 div.sk-toggleable {background-color: white;}#sk-container-id-3 label.sk-toggleable__label {cursor: pointer;display: block;width: 100%;margin-bottom: 0;padding: 0.3em;box-sizing: border-box;text-align: center;}#sk-container-id-3 label.sk-toggleable__label-arrow:before {content: \"▸\";float: left;margin-right: 0.25em;color: #696969;}#sk-container-id-3 label.sk-toggleable__label-arrow:hover:before {color: black;}#sk-container-id-3 div.sk-estimator:hover label.sk-toggleable__label-arrow:before {color: black;}#sk-container-id-3 div.sk-toggleable__content {max-height: 0;max-width: 0;overflow: hidden;text-align: left;background-color: #f0f8ff;}#sk-container-id-3 div.sk-toggleable__content pre {margin: 0.2em;color: black;border-radius: 0.25em;background-color: #f0f8ff;}#sk-container-id-3 input.sk-toggleable__control:checked~div.sk-toggleable__content {max-height: 200px;max-width: 100%;overflow: auto;}#sk-container-id-3 input.sk-toggleable__control:checked~label.sk-toggleable__label-arrow:before {content: \"▾\";}#sk-container-id-3 div.sk-estimator input.sk-toggleable__control:checked~label.sk-toggleable__label {background-color: #d4ebff;}#sk-container-id-3 div.sk-label input.sk-toggleable__control:checked~label.sk-toggleable__label {background-color: #d4ebff;}#sk-container-id-3 input.sk-hidden--visually {border: 0;clip: rect(1px 1px 1px 1px);clip: rect(1px, 1px, 1px, 1px);height: 1px;margin: -1px;overflow: hidden;padding: 0;position: absolute;width: 1px;}#sk-container-id-3 div.sk-estimator {font-family: monospace;background-color: #f0f8ff;border: 1px dotted black;border-radius: 0.25em;box-sizing: border-box;margin-bottom: 0.5em;}#sk-container-id-3 div.sk-estimator:hover {background-color: #d4ebff;}#sk-container-id-3 div.sk-parallel-item::after {content: \"\";width: 100%;border-bottom: 1px solid gray;flex-grow: 1;}#sk-container-id-3 div.sk-label:hover label.sk-toggleable__label {background-color: #d4ebff;}#sk-container-id-3 div.sk-serial::before {content: \"\";position: absolute;border-left: 1px solid gray;box-sizing: border-box;top: 0;bottom: 0;left: 50%;z-index: 0;}#sk-container-id-3 div.sk-serial {display: flex;flex-direction: column;align-items: center;background-color: white;padding-right: 0.2em;padding-left: 0.2em;position: relative;}#sk-container-id-3 div.sk-item {position: relative;z-index: 1;}#sk-container-id-3 div.sk-parallel {display: flex;align-items: stretch;justify-content: center;background-color: white;position: relative;}#sk-container-id-3 div.sk-item::before, #sk-container-id-3 div.sk-parallel-item::before {content: \"\";position: absolute;border-left: 1px solid gray;box-sizing: border-box;top: 0;bottom: 0;left: 50%;z-index: -1;}#sk-container-id-3 div.sk-parallel-item {display: flex;flex-direction: column;z-index: 1;position: relative;background-color: white;}#sk-container-id-3 div.sk-parallel-item:first-child::after {align-self: flex-end;width: 50%;}#sk-container-id-3 div.sk-parallel-item:last-child::after {align-self: flex-start;width: 50%;}#sk-container-id-3 div.sk-parallel-item:only-child::after {width: 0;}#sk-container-id-3 div.sk-dashed-wrapped {border: 1px dashed gray;margin: 0 0.4em 0.5em 0.4em;box-sizing: border-box;padding-bottom: 0.4em;background-color: white;}#sk-container-id-3 div.sk-label label {font-family: monospace;font-weight: bold;display: inline-block;line-height: 1.2em;}#sk-container-id-3 div.sk-label-container {text-align: center;}#sk-container-id-3 div.sk-container {/* jupyter's `normalize.less` sets `[hidden] { display: none; }` but bootstrap.min.css set `[hidden] { display: none !important; }` so we also need the `!important` here to be able to override the default hidden behavior on the sphinx rendered scikit-learn.org. See: https://github.com/scikit-learn/scikit-learn/issues/21755 */display: inline-block !important;position: relative;}#sk-container-id-3 div.sk-text-repr-fallback {display: none;}</style><div id=\"sk-container-id-3\" class=\"sk-top-container\"><div class=\"sk-text-repr-fallback\"><pre>Pipeline(steps=[(&#x27;Transform&#x27;,\n",
       "                 ColumnTransformer(transformers=[(&#x27;Standscaler&#x27;,\n",
       "                                                  StandardScaler(),\n",
       "                                                  [&#x27;Total Floor Area -SF&#x27;]),\n",
       "                                                 (&#x27;Onehotencoder&#x27;,\n",
       "                                                  OneHotEncoder(),\n",
       "                                                  [&#x27;City&#x27;,\n",
       "                                                   &#x27;Primary Property Type&#x27;]),\n",
       "                                                 (&#x27;Ordinalencoder&#x27;,\n",
       "                                                  OrdinalEncoder(),\n",
       "                                                  [&#x27;ENERGY STAR Certification &#x27;\n",
       "                                                   &#x27;- Eligibility&#x27;])])),\n",
       "                (&#x27;Predictor&#x27;,\n",
       "                 Ensemble_predictor(raw_pred=Ridge(alpha=10),\n",
       "                                    residue_pred=RandomForestRegressor(max_depth=10,\n",
       "                                                                       min_samples_leaf=5)))])</pre><b>In a Jupyter environment, please rerun this cell to show the HTML representation or trust the notebook. <br />On GitHub, the HTML representation is unable to render, please try loading this page with nbviewer.org.</b></div><div class=\"sk-container\" hidden><div class=\"sk-item sk-dashed-wrapped\"><div class=\"sk-label-container\"><div class=\"sk-label sk-toggleable\"><input class=\"sk-toggleable__control sk-hidden--visually\" id=\"sk-estimator-id-21\" type=\"checkbox\" ><label for=\"sk-estimator-id-21\" class=\"sk-toggleable__label sk-toggleable__label-arrow\">Pipeline</label><div class=\"sk-toggleable__content\"><pre>Pipeline(steps=[(&#x27;Transform&#x27;,\n",
       "                 ColumnTransformer(transformers=[(&#x27;Standscaler&#x27;,\n",
       "                                                  StandardScaler(),\n",
       "                                                  [&#x27;Total Floor Area -SF&#x27;]),\n",
       "                                                 (&#x27;Onehotencoder&#x27;,\n",
       "                                                  OneHotEncoder(),\n",
       "                                                  [&#x27;City&#x27;,\n",
       "                                                   &#x27;Primary Property Type&#x27;]),\n",
       "                                                 (&#x27;Ordinalencoder&#x27;,\n",
       "                                                  OrdinalEncoder(),\n",
       "                                                  [&#x27;ENERGY STAR Certification &#x27;\n",
       "                                                   &#x27;- Eligibility&#x27;])])),\n",
       "                (&#x27;Predictor&#x27;,\n",
       "                 Ensemble_predictor(raw_pred=Ridge(alpha=10),\n",
       "                                    residue_pred=RandomForestRegressor(max_depth=10,\n",
       "                                                                       min_samples_leaf=5)))])</pre></div></div></div><div class=\"sk-serial\"><div class=\"sk-item sk-dashed-wrapped\"><div class=\"sk-label-container\"><div class=\"sk-label sk-toggleable\"><input class=\"sk-toggleable__control sk-hidden--visually\" id=\"sk-estimator-id-22\" type=\"checkbox\" ><label for=\"sk-estimator-id-22\" class=\"sk-toggleable__label sk-toggleable__label-arrow\">Transform: ColumnTransformer</label><div class=\"sk-toggleable__content\"><pre>ColumnTransformer(transformers=[(&#x27;Standscaler&#x27;, StandardScaler(),\n",
       "                                 [&#x27;Total Floor Area -SF&#x27;]),\n",
       "                                (&#x27;Onehotencoder&#x27;, OneHotEncoder(),\n",
       "                                 [&#x27;City&#x27;, &#x27;Primary Property Type&#x27;]),\n",
       "                                (&#x27;Ordinalencoder&#x27;, OrdinalEncoder(),\n",
       "                                 [&#x27;ENERGY STAR Certification - Eligibility&#x27;])])</pre></div></div></div><div class=\"sk-parallel\"><div class=\"sk-parallel-item\"><div class=\"sk-item\"><div class=\"sk-label-container\"><div class=\"sk-label sk-toggleable\"><input class=\"sk-toggleable__control sk-hidden--visually\" id=\"sk-estimator-id-23\" type=\"checkbox\" ><label for=\"sk-estimator-id-23\" class=\"sk-toggleable__label sk-toggleable__label-arrow\">Standscaler</label><div class=\"sk-toggleable__content\"><pre>[&#x27;Total Floor Area -SF&#x27;]</pre></div></div></div><div class=\"sk-serial\"><div class=\"sk-item\"><div class=\"sk-estimator sk-toggleable\"><input class=\"sk-toggleable__control sk-hidden--visually\" id=\"sk-estimator-id-24\" type=\"checkbox\" ><label for=\"sk-estimator-id-24\" class=\"sk-toggleable__label sk-toggleable__label-arrow\">StandardScaler</label><div class=\"sk-toggleable__content\"><pre>StandardScaler()</pre></div></div></div></div></div></div><div class=\"sk-parallel-item\"><div class=\"sk-item\"><div class=\"sk-label-container\"><div class=\"sk-label sk-toggleable\"><input class=\"sk-toggleable__control sk-hidden--visually\" id=\"sk-estimator-id-25\" type=\"checkbox\" ><label for=\"sk-estimator-id-25\" class=\"sk-toggleable__label sk-toggleable__label-arrow\">Onehotencoder</label><div class=\"sk-toggleable__content\"><pre>[&#x27;City&#x27;, &#x27;Primary Property Type&#x27;]</pre></div></div></div><div class=\"sk-serial\"><div class=\"sk-item\"><div class=\"sk-estimator sk-toggleable\"><input class=\"sk-toggleable__control sk-hidden--visually\" id=\"sk-estimator-id-26\" type=\"checkbox\" ><label for=\"sk-estimator-id-26\" class=\"sk-toggleable__label sk-toggleable__label-arrow\">OneHotEncoder</label><div class=\"sk-toggleable__content\"><pre>OneHotEncoder()</pre></div></div></div></div></div></div><div class=\"sk-parallel-item\"><div class=\"sk-item\"><div class=\"sk-label-container\"><div class=\"sk-label sk-toggleable\"><input class=\"sk-toggleable__control sk-hidden--visually\" id=\"sk-estimator-id-27\" type=\"checkbox\" ><label for=\"sk-estimator-id-27\" class=\"sk-toggleable__label sk-toggleable__label-arrow\">Ordinalencoder</label><div class=\"sk-toggleable__content\"><pre>[&#x27;ENERGY STAR Certification - Eligibility&#x27;]</pre></div></div></div><div class=\"sk-serial\"><div class=\"sk-item\"><div class=\"sk-estimator sk-toggleable\"><input class=\"sk-toggleable__control sk-hidden--visually\" id=\"sk-estimator-id-28\" type=\"checkbox\" ><label for=\"sk-estimator-id-28\" class=\"sk-toggleable__label sk-toggleable__label-arrow\">OrdinalEncoder</label><div class=\"sk-toggleable__content\"><pre>OrdinalEncoder()</pre></div></div></div></div></div></div></div></div><div class=\"sk-item sk-dashed-wrapped\"><div class=\"sk-label-container\"><div class=\"sk-label sk-toggleable\"><input class=\"sk-toggleable__control sk-hidden--visually\" id=\"sk-estimator-id-29\" type=\"checkbox\" ><label for=\"sk-estimator-id-29\" class=\"sk-toggleable__label sk-toggleable__label-arrow\">Predictor: Ensemble_predictor</label><div class=\"sk-toggleable__content\"><pre>Ensemble_predictor(raw_pred=Ridge(alpha=10),\n",
       "                   residue_pred=RandomForestRegressor(max_depth=10,\n",
       "                                                      min_samples_leaf=5))</pre></div></div></div><div class=\"sk-parallel\"><div class=\"sk-parallel-item\"><div class=\"sk-item\"><div class=\"sk-label-container\"><div class=\"sk-label sk-toggleable\"><input class=\"sk-toggleable__control sk-hidden--visually\" id=\"sk-estimator-id-30\" type=\"checkbox\" ><label for=\"sk-estimator-id-30\" class=\"sk-toggleable__label sk-toggleable__label-arrow\">raw_pred: Ridge</label><div class=\"sk-toggleable__content\"><pre>Ridge(alpha=10)</pre></div></div></div><div class=\"sk-serial\"><div class=\"sk-item\"><div class=\"sk-estimator sk-toggleable\"><input class=\"sk-toggleable__control sk-hidden--visually\" id=\"sk-estimator-id-31\" type=\"checkbox\" ><label for=\"sk-estimator-id-31\" class=\"sk-toggleable__label sk-toggleable__label-arrow\">Ridge</label><div class=\"sk-toggleable__content\"><pre>Ridge(alpha=10)</pre></div></div></div></div></div></div><div class=\"sk-parallel-item\"><div class=\"sk-item\"><div class=\"sk-label-container\"><div class=\"sk-label sk-toggleable\"><input class=\"sk-toggleable__control sk-hidden--visually\" id=\"sk-estimator-id-32\" type=\"checkbox\" ><label for=\"sk-estimator-id-32\" class=\"sk-toggleable__label sk-toggleable__label-arrow\">residue_pred: RandomForestRegressor</label><div class=\"sk-toggleable__content\"><pre>RandomForestRegressor(max_depth=10, min_samples_leaf=5)</pre></div></div></div><div class=\"sk-serial\"><div class=\"sk-item\"><div class=\"sk-estimator sk-toggleable\"><input class=\"sk-toggleable__control sk-hidden--visually\" id=\"sk-estimator-id-33\" type=\"checkbox\" ><label for=\"sk-estimator-id-33\" class=\"sk-toggleable__label sk-toggleable__label-arrow\">RandomForestRegressor</label><div class=\"sk-toggleable__content\"><pre>RandomForestRegressor(max_depth=10, min_samples_leaf=5)</pre></div></div></div></div></div></div></div></div></div></div></div></div>"
      ],
      "text/plain": [
       "Pipeline(steps=[('Transform',\n",
       "                 ColumnTransformer(transformers=[('Standscaler',\n",
       "                                                  StandardScaler(),\n",
       "                                                  ['Total Floor Area -SF']),\n",
       "                                                 ('Onehotencoder',\n",
       "                                                  OneHotEncoder(),\n",
       "                                                  ['City',\n",
       "                                                   'Primary Property Type']),\n",
       "                                                 ('Ordinalencoder',\n",
       "                                                  OrdinalEncoder(),\n",
       "                                                  ['ENERGY STAR Certification '\n",
       "                                                   '- Eligibility'])])),\n",
       "                ('Predictor',\n",
       "                 Ensemble_predictor(raw_pred=Ridge(alpha=10),\n",
       "                                    residue_pred=RandomForestRegressor(max_depth=10,\n",
       "                                                                       min_samples_leaf=5)))])"
      ]
     },
     "execution_count": 164,
     "metadata": {},
     "output_type": "execute_result"
    }
   ],
   "source": [
    "#hand input paras\n",
    "Pipe_common_cl.fit(X_train , y_train)"
   ]
  },
  {
   "cell_type": "code",
   "execution_count": 166,
   "id": "c79e4227",
   "metadata": {},
   "outputs": [],
   "source": [
    "y_pred = Pipe_common_cl.predict(X_train)"
   ]
  },
  {
   "cell_type": "code",
   "execution_count": 167,
   "id": "19bd92f6",
   "metadata": {},
   "outputs": [
    {
     "data": {
      "text/plain": [
       "0.3613594176066145"
      ]
     },
     "execution_count": 167,
     "metadata": {},
     "output_type": "execute_result"
    }
   ],
   "source": [
    "r2_score(y_train, y_pred)"
   ]
  },
  {
   "cell_type": "code",
   "execution_count": 157,
   "id": "2d5b6e3b",
   "metadata": {
    "scrolled": false
   },
   "outputs": [
    {
     "data": {
      "text/plain": [
       "<2403x120 sparse matrix of type '<class 'numpy.float64'>'\n",
       "\twith 7273 stored elements in Compressed Sparse Row format>"
      ]
     },
     "execution_count": 157,
     "metadata": {},
     "output_type": "execute_result"
    }
   ],
   "source": [
    "transformer_common_cl.fit_transform(X_test)"
   ]
  },
  {
   "cell_type": "code",
   "execution_count": null,
   "id": "56b7c4a1",
   "metadata": {},
   "outputs": [],
   "source": [
    "# regroup the put cleaning of train data together.\n",
    "\n",
    "df_2013 = pd.read_csv(\"raw data/Energy_and_Water_Data_Disclosure_for_Local_Law_84__Data_for_Calendar_Year_2013_.csv\")\n",
    "\n",
    "#pick columns to work with\n",
    "\n",
    "cl_to_use_list = ['Property Id','City','Primary Property Type - Self Selected','Property Floor Area (Building(s)) (ft²)',\n",
    "                 'Year Built','ENERGY STAR Score','ENERGY STAR Certification - Eligibility','Latitude','Longitude',\n",
    "                  'Electricity Use - Grid Purchase (kBtu)',\n",
    "                  'Office - Computer Density (Number per 1,000 ft²)','Office - Weekly Operating Hours','Office - Worker Density (Number per 1,000 ft²)',\n",
    "                  'Multifamily Housing - Maximum Number of Floors','Multifamily Housing - Total Number of Residential Living Units','Multifamily Housing - Percent That Can Be Cooled',\n",
    "                  'Hotel - Room Density (Number per 1,000 ft²)','Hotel - Worker Density (Number per 1,000 ft²)','Hotel - Percent That Can Be Cooled'\n",
    "                 ]\n",
    "\n",
    "df_2013_work = df_2013[cl_to_use_list]\n",
    "\n",
    "#rename columns names\n",
    "\n",
    "df_2013_work = df_2013_work.rename(columns = {'Property Floor Area (Building(s)) (ft²)':'Total Floor Area -SF',\n",
    "                                              'Office - Computer Density (Number per 1,000 ft²)':'Office - Computer Density',\n",
    "                                             'Primary Property Type - Self Selected':'Primary Property Type',\n",
    "                                             'Hotel - Room Density (Number per 1,000 ft²)':'Hotel Room Density',\n",
    "                                             'Hotel - Worker Density (Number per 1,000 ft²)':'Hotel Worker Density',\n",
    "                                             'Hotel - Percent That Can Be Cooled':'Hotel Perecent Area Cooled',\n",
    "                                             'Office - Worker Density (Number per 1,000 ft²)':'Office - Worker Density',\n",
    "                                              'Multifamily Housing - Maximum Number of Floors':'Multi Fami Max Floors',\n",
    "                                              'Multifamily Housing - Total Number of Residential Living Units':'Multi Fami Resid Units',\n",
    "                                              'Multifamily Housing - Percent That Can Be Cooled':'Multi Fami Area Cooled'\n",
    "                                             })\n",
    "\n",
    "#turn the energy use (Y) col into kwh UNIT\n",
    "df_2013_work = df_2013_work[df_2013_work['Electricity Use - Grid Purchase (kBtu)'] != 'Not Available']\n",
    "df_2013_work['Electricity Use - Grid Purchase (kBtu)'] = pd.to_numeric(df_2013_work['Electricity Use - Grid Purchase (kBtu)'], errors='coerce')\n",
    "df_2013_work['Electricity Use - Grid Purchase (kwh)'] = df_2013_work['Electricity Use - Grid Purchase (kBtu)']*0.000293\n",
    "\n",
    "#turn the train col into wording and numeric columns\n",
    "\n",
    "df_work = df_2013_work\n",
    "\n",
    "# to change all columns with \"not available\" into 'nan'\n",
    "cl_not_available = ['ENERGY STAR Score', 'Electricity Use - Grid Purchase (kwh)',\n",
    "                    'Total Floor Area -SF','Office - Computer Density','Office - Weekly Operating Hours','Office - Worker Density',\n",
    "                   'Multi Fami Max Floors','Multi Fami Resid Units','Multi Fami Area Cooled',\n",
    "                   'Hotel Room Density','Hotel Worker Density','Hotel Perecent Area Cooled']\n",
    "\n",
    "\n",
    "def turn_notavailable(x):\n",
    "\n",
    "    if x == 'Not Available':\n",
    "        x=np.nan\n",
    "    return x\n",
    "\n",
    "for col in cl_not_available:\n",
    "    df_work[col] = df_work[col].apply(turn_notavailable)\n",
    "    \n",
    "\n",
    "# to change all columns with dtype 'object' into 'int' or 'float'\n",
    "cl_to_numeric = ['Total Floor Area -SF','ENERGY STAR Score',\n",
    "                    'Office - Computer Density','Office - Weekly Operating Hours','Office - Worker Density',\n",
    "                   'Multi Fami Max Floors','Multi Fami Resid Units','Multi Fami Area Cooled',\n",
    "                   'Hotel Room Density','Hotel Worker Density','Hotel Perecent Area Cooled']\n",
    "\n",
    "for col in cl_to_numeric:\n",
    "    df_work[col] = pd.to_numeric(df_work[col], errors='coerce')\n",
    "    \n"
   ]
  },
  {
   "cell_type": "code",
   "execution_count": null,
   "id": "30b97180",
   "metadata": {},
   "outputs": [],
   "source": [
    "# regroup the put pipeline to train home type building together\n",
    "df_process = df_work\n",
    "\n",
    "\"\"\"#Change to be made including following:\n",
    "#1, Energy Star Score: NaN change into 50, which is national median\n",
    "#2, Make a new col = 'Distance to Central Park' using \"Latitude\" & 'Longitude'\n",
    "#3, Fill NaN value in Distance to Central Pak with average \"\"\"\n",
    "df_process['ENERGY STAR Score']=df_process['ENERGY STAR Score'].fillna(50)\n",
    "df_process['Distance to Central Park'] = (abs(df_process['Latitude'])- 40.4712) + (abs(df_process['Longitude'])- 73.9665)**2\n",
    "distance_avg = df_process['Distance to Central Park'].mean()\n",
    "df_process['Distance to Central Park'] = df_process['Distance to Central Park'].fillna(distance_avg)\n",
    "\n",
    "df_process['Multi Fami Max Floors'] = df_process['Multi Fami Max Floors'].fillna(df_process['Multi Fami Max Floors'].mean())\n",
    "df_process['Multi Fami Resid Units'] = df_process['Multi Fami Resid Units'].fillna(df_process['Multi Fami Resid Units'].mean())\n",
    "df_process['Multi Fami Area Cooled'] = df_process['Multi Fami Area Cooled'].fillna(df_process['Multi Fami Area Cooled'].mean())\n",
    "\n",
    "\n",
    "\n",
    "df_process['Year to now'] = abs(df_process['Year Built'])- 2020\n",
    "\n",
    "\n",
    "cols = [x for x in df_process.columns]\n",
    "drop_list = ['Electricity Use - Grid Purchase (kwh)',\n",
    "            'Electricity Use - Grid Purchase (kBtu)','Latitude','Longitude','Year Built']\n",
    "\n",
    "for elem in drop_list:\n",
    "    cols.remove(elem)\n",
    "\n",
    "home_cols = cols.remove('Office - Computer Density','Office - Weekly Operating Hours','Office - Worker Density',\n",
    "                       'Hotel Room Density','Hotel Worker Density','Hotel Perecent Area Cooled')\n",
    "\n",
    "office_cols = cols.remove('Multi Fami Max Floors','Multi Fami Resid Units','Multi Fami Area Cooled',\n",
    "                       'Hotel Room Density','Hotel Worker Density','Hotel Perecent Area Cooled')\n",
    "\n",
    "hotel_cols = cols.remove('Multi Fami Max Floors','Multi Fami Resid Units','Multi Fami Area Cooled',\n",
    "                       'Office - Computer Density','Office - Weekly Operating Hours','Office - Worker Density')\n",
    "\n",
    "\n",
    "#separate different columns for different type of buildings\n",
    "X_home_train= df_process[home_cols]\n",
    "X_hotel_train= df_process[hotel_cols]\n",
    "X_office_train= df_process[office_cols]\n",
    "\n",
    "y_train= df_process['Electricity Use - Grid Purchase (kwh)']\n",
    "\n",
    "home_linear_col = ['Year to now','ENERGY STAR Score','Total Floor Area -SF','Multi Fami Max Floors','Multi Fami Resid Units','Multi Fami Area Cooled']\n",
    "Onehotencoder_col =['City','Primary Property Type']\n",
    "Ordinalencoder_col = ['ENERGY STAR Certification - Eligibility']\n",
    "Standscaler_col = ['Total Floor Area -SF']\n",
    "\n",
    "transformer_common_cl = ColumnTransformer([\n",
    "            ('Standscaler',StandardScaler(),Standscaler_col),\n",
    "            ('Onehotencoder',OneHotEncoder(),Onehotencoder_col),\n",
    "            ('Ordinalencoder',OrdinalEncoder(),Ordinalencoder_col)\n",
    "])\n",
    "\n",
    "class Ensemble_predictor(BaseEstimator, RegressorMixin):\n",
    "    def __init__(self, raw_pred, residue_pred):\n",
    "        self.raw_pred = raw_pred\n",
    "        self.residue_pred = residue_pred\n",
    "        \n",
    "    def fit(self, X, y):\n",
    "        self.raw_pred.fit(X, y)\n",
    "        \"\"\"\n",
    "        Build a custom predictor that takes as an argument two other predictors. \n",
    "        It should use the first to fit the raw data and the second to fit the residuals of the first.\n",
    "        \"\"\"\n",
    "        self.residue_pred.fit(X, y - self.raw_pred.predict(X))  #self.raw_pred.predict(X) is what's predicted by first predictor\n",
    "        \n",
    "        return self\n",
    "    \n",
    "    def predict(self, X):\n",
    "        \n",
    "        return self.raw_pred.predict(X) + self.residue_pred.predict(X)\n",
    "    \n",
    "    \n",
    "Home_bldg_model = Pipeline([('Transform', transformer_common_cl),\n",
    "                            ('Predictor', Ensemble_predictor(Ridge(alpha = 10), \n",
    "                                  RandomForestRegressor(n_estimators = 100, max_depth=10, min_samples_leaf = 5)))\n",
    "                   ])\n",
    "\n",
    "\n",
    "Home_bldg_model.fit(X_home_train , y_train)\n",
    "Home_filename = 'home_bldg_model.sav'\n",
    "pickle.dump(Home_bldg_model, open(Home_filename, 'wb'))\n",
    "\n",
    "\n",
    "Office_bldg_model.fit(X_office_train , y_train)\n",
    "Office_filename = 'home_bldg_model.sav'\n",
    "pickle.dump(Office_bldg_model, open(Office_filename, 'wb'))\n",
    "\n",
    "Hotel_bldg_model.fit(X_hotel_train , y_train)\n",
    "Hotel_filename = 'Hotel_bldg_model.sav'\n",
    "pickle.dump(Hotel_bldg_model, open(Hotel_filename, 'wb'))"
   ]
  },
  {
   "cell_type": "code",
   "execution_count": null,
   "id": "25e7c591",
   "metadata": {},
   "outputs": [],
   "source": []
  },
  {
   "cell_type": "code",
   "execution_count": null,
   "id": "ecc410b9",
   "metadata": {},
   "outputs": [],
   "source": []
  },
  {
   "cell_type": "code",
   "execution_count": null,
   "id": "60b0b422",
   "metadata": {},
   "outputs": [],
   "source": []
  }
 ],
 "metadata": {
  "kernelspec": {
   "display_name": "Python 3 (ipykernel)",
   "language": "python",
   "name": "python3"
  },
  "language_info": {
   "codemirror_mode": {
    "name": "ipython",
    "version": 3
   },
   "file_extension": ".py",
   "mimetype": "text/x-python",
   "name": "python",
   "nbconvert_exporter": "python",
   "pygments_lexer": "ipython3",
   "version": "3.10.3"
  }
 },
 "nbformat": 4,
 "nbformat_minor": 5
}
